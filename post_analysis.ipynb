{
 "cells": [
  {
   "cell_type": "code",
   "execution_count": null,
   "metadata": {},
   "outputs": [],
   "source": [
    "import numpy as np\n",
    "import matplotlib.pyplot as plt\n",
    "from tqdm import tqdm\n",
    "import torch\n",
    "import torch.nn.functional as F\n",
    "from torch.utils.data import DataLoader\n",
    "\n",
    "from train import create_model, create_criterion, evaluate, load_ensemble_model\n",
    "from dataset import TrainData, TrainDataset"
   ]
  },
  {
   "cell_type": "code",
   "execution_count": null,
   "metadata": {},
   "outputs": [],
   "source": [
    "input_dir = \"/storage/kaggle/quickdraw\"\n",
    "model_type = \"seresnext50\"\n",
    "model_name = \"seresnext50_2\"\n",
    "loss_type = \"cce\"\n",
    "image_size = 128\n",
    "use_extended_stroke_channels = False\n",
    "augment = False\n",
    "batch_size = 64\n",
    "test_size = 0.1\n",
    "train_on_unrecognized = True\n",
    "num_category_shards = 1\n",
    "category_shard = 0\n",
    "exclude_categories = False\n",
    "num_categories = 340 // num_category_shards\n",
    "num_workers = 8\n",
    "pin_memory = True\n",
    "use_dummy_image = False\n",
    "predict_on_val_set = True"
   ]
  },
  {
   "cell_type": "code",
   "execution_count": null,
   "metadata": {},
   "outputs": [],
   "source": [
    "device = torch.device(\"cuda:0\" if torch.cuda.is_available() else \"cpu\")"
   ]
  },
  {
   "cell_type": "code",
   "execution_count": null,
   "metadata": {},
   "outputs": [],
   "source": [
    "train_data = TrainData(\n",
    "    input_dir,\n",
    "    shard=0,\n",
    "    test_size=test_size,\n",
    "    train_on_unrecognized=train_on_unrecognized,\n",
    "    num_category_shards=num_category_shards,\n",
    "    category_shard=category_shard,\n",
    "    exclude_categories=exclude_categories)"
   ]
  },
  {
   "cell_type": "code",
   "execution_count": null,
   "metadata": {},
   "outputs": [],
   "source": [
    "val_set = TrainDataset(train_data.val_set_df, image_size, use_extended_stroke_channels, augment, use_dummy_image)\n",
    "val_set_data_loader = \\\n",
    "    DataLoader(val_set, batch_size=batch_size, shuffle=False, num_workers=num_workers, pin_memory=pin_memory)"
   ]
  },
  {
   "cell_type": "code",
   "execution_count": null,
   "metadata": {},
   "outputs": [],
   "source": [
    "criterion = create_criterion(loss_type, num_categories)"
   ]
  },
  {
   "cell_type": "code",
   "execution_count": null,
   "metadata": {
    "scrolled": false
   },
   "outputs": [],
   "source": [
    "# model = create_model(model_type, input_size=image_size, num_classes=num_categories)\n",
    "# model.load_state_dict(torch.load(\"/storage/models/quickdraw/{}/model.pth\".format(model_name), map_location=device))\n",
    "\n",
    "base_dir = \"/storage/models/quickdraw/{}\".format(model_name)\n",
    "model = load_ensemble_model(base_dir, 3, val_set_data_loader, criterion, model_type, image_size, num_categories)"
   ]
  },
  {
   "cell_type": "code",
   "execution_count": null,
   "metadata": {},
   "outputs": [],
   "source": [
    "if predict_on_val_set:\n",
    "    loss_avg, mapk_avg, accuracy_top1_avg, accuracy_top3_avg, accuracy_top5_avg, accuracy_top10_avg = \\\n",
    "        evaluate(model, val_set_data_loader, criterion, 3)\n",
    "\n",
    "    print(\n",
    "        \"loss: {:.3f}, map@3: {:.3f}, acc@1: {:.3f}, acc@3: {:.3f}, acc@5: {:.3f}, acc@10: {:.3f}\"\n",
    "        .format(loss_avg, mapk_avg, accuracy_top1_avg, accuracy_top3_avg, accuracy_top5_avg, accuracy_top10_avg))"
   ]
  },
  {
   "cell_type": "code",
   "execution_count": null,
   "metadata": {
    "scrolled": false
   },
   "outputs": [],
   "source": [
    "confusion = np.zeros((num_categories, num_categories), dtype=np.float32)\n",
    "\n",
    "for batch in tqdm(val_set_data_loader, total=len(val_set_data_loader)):\n",
    "    images, categories = \\\n",
    "        batch[0].to(device, non_blocking=True), \\\n",
    "        batch[1].to(device, non_blocking=True)\n",
    "\n",
    "    prediction_logits = model(images)\n",
    "    predictions = F.softmax(prediction_logits, dim=1)\n",
    "    prediction_scores, prediction_categories = predictions.topk(3, dim=1, sorted=True)\n",
    "\n",
    "    for bpc, bc in zip(prediction_categories[:, 0], categories):\n",
    "        confusion[bpc, bc] += 1\n",
    "\n",
    "for c in range(confusion.shape[0]):\n",
    "    category_count = confusion[c, :].sum()\n",
    "    if category_count != 0:\n",
    "        confusion[c, :] /= category_count"
   ]
  },
  {
   "cell_type": "code",
   "execution_count": null,
   "metadata": {},
   "outputs": [],
   "source": [
    "plt.figure(num=None, figsize=(8, 6), dpi=120, facecolor=\"w\", edgecolor=\"k\")\n",
    "plt.imshow(confusion, vmin=0.0, vmax=1.0)\n",
    "plt.xlabel(\"true category\")\n",
    "plt.ylabel(\"predicted category\")\n",
    "plt.colorbar()"
   ]
  },
  {
   "cell_type": "code",
   "execution_count": null,
   "metadata": {},
   "outputs": [],
   "source": [
    "precisions = np.array([confusion[c, c] for c in range(confusion.shape[0])])\n",
    "percentiles = np.percentile(precisions, q=np.linspace(0, 100, 10))\n",
    "print(percentiles)"
   ]
  },
  {
   "cell_type": "code",
   "execution_count": null,
   "metadata": {},
   "outputs": [],
   "source": [
    "precisions.mean()"
   ]
  },
  {
   "cell_type": "code",
   "execution_count": null,
   "metadata": {},
   "outputs": [],
   "source": [
    "precisions[precisions > np.percentile(precisions, q=70)].mean()"
   ]
  },
  {
   "cell_type": "code",
   "execution_count": null,
   "metadata": {},
   "outputs": [],
   "source": [
    "np.array(train_data.categories)[precisions > np.percentile(precisions, q=70)]"
   ]
  },
  {
   "cell_type": "code",
   "execution_count": null,
   "metadata": {},
   "outputs": [],
   "source": []
  }
 ],
 "metadata": {
  "kernelspec": {
   "display_name": "Python 3",
   "language": "python",
   "name": "python3"
  },
  "language_info": {
   "codemirror_mode": {
    "name": "ipython",
    "version": 3
   },
   "file_extension": ".py",
   "mimetype": "text/x-python",
   "name": "python",
   "nbconvert_exporter": "python",
   "pygments_lexer": "ipython3",
   "version": "3.5.2"
  }
 },
 "nbformat": 4,
 "nbformat_minor": 2
}
