{
 "cells": [
  {
   "cell_type": "code",
   "execution_count": 1,
   "metadata": {},
   "outputs": [],
   "source": [
    "import numpy as np\n",
    "import matplotlib.pyplot as plt\n",
    "import torch\n",
    "import torch.nn.functional as F\n",
    "from torch.utils.data import DataLoader\n",
    "\n",
    "from train import create_model, create_criterion, evaluate\n",
    "from dataset import TrainData, TrainDataset"
   ]
  },
  {
   "cell_type": "code",
   "execution_count": 2,
   "metadata": {},
   "outputs": [],
   "source": [
    "input_dir = \"/storage/kaggle/quickdraw\"\n",
    "model_type = \"cnn\"\n",
    "image_size = 32\n",
    "batch_size = 256\n",
    "test_size = 0.1\n",
    "train_on_unrecognized = True\n",
    "num_category_shards = 5\n",
    "category_shard = 0\n",
    "num_categories = 340 // num_category_shards\n",
    "num_workers = 8\n",
    "pin_memory = True\n",
    "use_dummy_image = False"
   ]
  },
  {
   "cell_type": "code",
   "execution_count": 3,
   "metadata": {},
   "outputs": [],
   "source": [
    "device = torch.device(\"cuda:0\" if torch.cuda.is_available() else \"cpu\")"
   ]
  },
  {
   "cell_type": "code",
   "execution_count": 4,
   "metadata": {},
   "outputs": [],
   "source": [
    "model = create_model(model_type, input_size=image_size, num_classes=num_categories)\n",
    "model.load_state_dict(torch.load(\"/storage/models/quickdraw/test/model.pth\", map_location=device))"
   ]
  },
  {
   "cell_type": "code",
   "execution_count": 5,
   "metadata": {},
   "outputs": [
    {
     "name": "stdout",
     "output_type": "stream",
     "text": [
      "Reading data file '/storage/kaggle/quickdraw/train_simplified_shards/shard-0.npz'\n",
      "Loaded 994325 samples\n",
      "Using the category range [0,68)\n",
      "Time to load data of shard 0: 0:00:27.168595\n"
     ]
    }
   ],
   "source": [
    "train_data = TrainData(\n",
    "    input_dir,\n",
    "    shard=0,\n",
    "    test_size=test_size,\n",
    "    train_on_unrecognized=train_on_unrecognized,\n",
    "    num_category_shards=num_category_shards,\n",
    "    category_shard=category_shard)"
   ]
  },
  {
   "cell_type": "code",
   "execution_count": 6,
   "metadata": {},
   "outputs": [],
   "source": [
    "val_set = TrainDataset(train_data.val_set_df, image_size, use_dummy_image)\n",
    "val_set_data_loader = \\\n",
    "    DataLoader(val_set, batch_size=batch_size, shuffle=False, num_workers=num_workers, pin_memory=pin_memory)"
   ]
  },
  {
   "cell_type": "code",
   "execution_count": 7,
   "metadata": {},
   "outputs": [],
   "source": [
    "criterion = create_criterion(\"cce\", num_categories)"
   ]
  },
  {
   "cell_type": "code",
   "execution_count": 8,
   "metadata": {},
   "outputs": [],
   "source": [
    "loss_avg, mapk_avg, accuracy_top1_avg, accuracy_top3_avg, accuracy_top5_avg, accuracy_top10_avg = \\\n",
    "    evaluate(model, val_set_data_loader, criterion, 3)"
   ]
  },
  {
   "cell_type": "code",
   "execution_count": 9,
   "metadata": {},
   "outputs": [
    {
     "name": "stdout",
     "output_type": "stream",
     "text": [
      "loss: 0.575, map@3: 0.889, acc@1: 0.846, acc@3: 0.939, acc@5: 0.957, acc@10: 0.972\n"
     ]
    }
   ],
   "source": [
    "print(\n",
    "    \"loss: {:.3f}, map@3: {:.3f}, acc@1: {:.3f}, acc@3: {:.3f}, acc@5: {:.3f}, acc@10: {:.3f}\"\n",
    "    .format(loss_avg, mapk_avg, accuracy_top1_avg, accuracy_top3_avg, accuracy_top5_avg, accuracy_top10_avg))"
   ]
  },
  {
   "cell_type": "code",
   "execution_count": 10,
   "metadata": {},
   "outputs": [],
   "source": [
    "val_set_data_loader_iter = iter(val_set_data_loader)"
   ]
  },
  {
   "cell_type": "code",
   "execution_count": 11,
   "metadata": {},
   "outputs": [],
   "source": [
    "batch = next(val_set_data_loader_iter)\n",
    "\n",
    "images, categories = \\\n",
    "    batch[0].to(device, non_blocking=True), \\\n",
    "    batch[1].to(device, non_blocking=True)"
   ]
  },
  {
   "cell_type": "code",
   "execution_count": 12,
   "metadata": {},
   "outputs": [],
   "source": [
    "prediction_logits = model(images)\n",
    "predictions = F.softmax(prediction_logits, dim=1)"
   ]
  },
  {
   "cell_type": "code",
   "execution_count": 13,
   "metadata": {},
   "outputs": [],
   "source": [
    "prediction_scores, prediction_categories = predictions.topk(3, dim=1, sorted=True)"
   ]
  },
  {
   "cell_type": "code",
   "execution_count": 14,
   "metadata": {},
   "outputs": [
    {
     "name": "stdout",
     "output_type": "stream",
     "text": [
      "tensor([0.7108, 1.0000, 0.9960, 0.9998, 0.8685, 0.9865, 1.0000, 0.9916, 0.7663,\n",
      "        0.9828], device='cuda:0', grad_fn=<SelectBackward>)\n"
     ]
    }
   ],
   "source": [
    "print(prediction_scores[:10, 0])"
   ]
  },
  {
   "cell_type": "code",
   "execution_count": 15,
   "metadata": {},
   "outputs": [
    {
     "name": "stdout",
     "output_type": "stream",
     "text": [
      "[32 65  5 37 33 33 37 29 50 65]\n"
     ]
    }
   ],
   "source": [
    "print(np.array(train_data.categories)[prediction_categories[:10, 0]])"
   ]
  },
  {
   "cell_type": "code",
   "execution_count": 16,
   "metadata": {},
   "outputs": [
    {
     "name": "stdout",
     "output_type": "stream",
     "text": [
      "tensor(0.8316, device='cuda:0', grad_fn=<MeanBackward1>)\n",
      "tensor(0.2340, device='cuda:0', grad_fn=<StdBackward0>)\n",
      "tensor(0.1256, device='cuda:0', grad_fn=<MinBackward1>)\n",
      "tensor(1.0000, device='cuda:0', grad_fn=<MaxBackward1>)\n"
     ]
    }
   ],
   "source": [
    "print(prediction_scores[:, 0].mean())\n",
    "print(prediction_scores[:, 0].std())\n",
    "print(prediction_scores[:, 0].min())\n",
    "print(prediction_scores[:, 0].max())"
   ]
  },
  {
   "cell_type": "code",
   "execution_count": 17,
   "metadata": {},
   "outputs": [
    {
     "name": "stdout",
     "output_type": "stream",
     "text": [
      "tensor(0.9923, device='cuda:0', grad_fn=<MeanBackward1>)\n",
      "tensor(0.0103, device='cuda:0', grad_fn=<StdBackward0>)\n",
      "tensor(0.9746, device='cuda:0', grad_fn=<MinBackward1>)\n",
      "tensor(1.0000, device='cuda:0', grad_fn=<MaxBackward1>)\n"
     ]
    }
   ],
   "source": [
    "print(prediction_scores[categories == 0][:, 0].mean())\n",
    "print(prediction_scores[categories == 0][:, 0].std())\n",
    "print(prediction_scores[categories == 0][:, 0].min())\n",
    "print(prediction_scores[categories == 0][:, 0].max())"
   ]
  },
  {
   "cell_type": "code",
   "execution_count": 18,
   "metadata": {},
   "outputs": [],
   "source": [
    "confusion = np.zeros((num_categories, num_categories), dtype=np.float32)\n",
    "for bpc, bc in zip(prediction_categories[:, 0], categories):\n",
    "    confusion[bpc, bc] += 1\n",
    "\n",
    "for c in range(num_categories):\n",
    "    category_count = (prediction_categories[:, 0] == c).sum().item()\n",
    "    if category_count != 0:\n",
    "        confusion[c, :] /= category_count"
   ]
  },
  {
   "cell_type": "code",
   "execution_count": 19,
   "metadata": {},
   "outputs": [
    {
     "name": "stdout",
     "output_type": "stream",
     "text": [
      "0.014489619\n",
      "0.10628839\n",
      "0.0\n",
      "1.0\n"
     ]
    }
   ],
   "source": [
    "print(confusion.mean())\n",
    "print(confusion.std())\n",
    "print(confusion.min())\n",
    "print(confusion.max())"
   ]
  },
  {
   "cell_type": "code",
   "execution_count": 20,
   "metadata": {},
   "outputs": [
    {
     "data": {
      "text/plain": [
       "<matplotlib.colorbar.Colorbar at 0x7f0ddecf5d30>"
      ]
     },
     "execution_count": 20,
     "metadata": {},
     "output_type": "execute_result"
    },
    {
     "data": {
      "image/png": "[encoded data removed]",
      "text/plain": [
       "<matplotlib.figure.Figure at 0x7f0e12acada0>"
      ]
     },
     "metadata": {},
     "output_type": "display_data"
    }
   ],
   "source": [
    "plt.figure(num=None, figsize=(8, 6), dpi=120, facecolor=\"w\", edgecolor=\"k\")\n",
    "plt.imshow(confusion, vmin=0.0, vmax=1.0)\n",
    "plt.xlabel(\"true category\")\n",
    "plt.ylabel(\"predicted category\")\n",
    "plt.colorbar()"
   ]
  },
  {
   "cell_type": "code",
   "execution_count": null,
   "metadata": {},
   "outputs": [],
   "source": []
  }
 ],
 "metadata": {
  "kernelspec": {
   "display_name": "Python 3",
   "language": "python",
   "name": "python3"
  },
  "language_info": {
   "codemirror_mode": {
    "name": "ipython",
    "version": 3
   },
   "file_extension": ".py",
   "mimetype": "text/x-python",
   "name": "python",
   "nbconvert_exporter": "python",
   "pygments_lexer": "ipython3",
   "version": "3.5.2"
  }
 },
 "nbformat": 4,
 "nbformat_minor": 2
}
