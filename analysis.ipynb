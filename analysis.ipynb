{
 "cells": [
  {
   "cell_type": "code",
   "execution_count": 1,
   "metadata": {},
   "outputs": [],
   "source": [
    "import glob\n",
    "import os\n",
    "import math\n",
    "import numpy as np\n",
    "import pandas as pd\n",
    "import matplotlib.pyplot as plt\n",
    "from PIL import Image, ImageDraw\n",
    "import cv2"
   ]
  },
  {
   "cell_type": "code",
   "execution_count": null,
   "metadata": {},
   "outputs": [],
   "source": [
    "cv2.line()"
   ]
  },
  {
   "cell_type": "code",
   "execution_count": null,
   "metadata": {},
   "outputs": [],
   "source": [
    "def draw_it(strokes):\n",
    "    image = Image.new(\"P\", (256,256), color=255)\n",
    "    image_draw = ImageDraw.Draw(image)\n",
    "\n",
    "    for stroke in strokes:\n",
    "        for i in range(len(stroke[0])-1):\n",
    "            image_draw.line([stroke[0][i], \n",
    "                             stroke[1][i],\n",
    "                             stroke[0][i+1], \n",
    "                             stroke[1][i+1]],\n",
    "                            fill=0, width=6)\n",
    "\n",
    "    return np.array(image)\n",
    "\n",
    "def file_len(fname):\n",
    "    with open(fname) as f:\n",
    "        for _ in enumerate(f):\n",
    "            pass\n",
    "    return i + 1"
   ]
  },
  {
   "cell_type": "code",
   "execution_count": null,
   "metadata": {},
   "outputs": [],
   "source": [
    "data_files_csv = glob.glob(\"../../quickdraw/train_simplified/*.csv\")\n",
    "\n",
    "shard_count = 10\n",
    "for data_file_csv in data_files_csv:\n",
    "    df = pd.read_csv(data_file_csv, index_col=\"key_id\")\n",
    "    shard_size = math.ceil(len(df) / float(shard_count))\n",
    "    shuffeled_indexes = df.index.values\n",
    "    np.random.shuffle(shuffeled_indexes)\n",
    "    for shard_index in range(shard_count):\n",
    "        start_index = shard_index * shard_size\n",
    "        end_index = min(start_index + shard_size, len(shuffeled_indexes))\n",
    "        shard_df = df[df.index.isin(shuffeled_indexes[start_index:end_index])]\n",
    "        shard_df.to_csv(\"../../quickdraw/train_simplified_shards/{}-{}.csv\".format(os.path.basename(data_file_csv)[:-4], shard_index))"
   ]
  },
  {
   "cell_type": "code",
   "execution_count": null,
   "metadata": {},
   "outputs": [],
   "source": [
    "data_files_csv = glob.glob(\"../../quickdraw/train_simplified_shards/*-0.csv\")\n",
    "\n",
    "sample_count = 0\n",
    "for data_file_csv in data_files_csv:\n",
    "    sample_count += len(pd.read_csv(data_file_csv, index_col=\"key_id\"))\n",
    "\n",
    "print(sample_count)"
   ]
  },
  {
   "cell_type": "code",
   "execution_count": null,
   "metadata": {},
   "outputs": [],
   "source": [
    "df = pd.read_csv(\n",
    "    \"../../quickdraw/train_simplified_shards/owl-0.csv\",\n",
    "    index_col=\"key_id\",\n",
    "    converters={\"drawing\": lambda d: np.asarray(eval(d))})"
   ]
  },
  {
   "cell_type": "code",
   "execution_count": null,
   "metadata": {},
   "outputs": [],
   "source": [
    "np.asarray(df.drawing.values[0]).shape"
   ]
  },
  {
   "cell_type": "code",
   "execution_count": null,
   "metadata": {},
   "outputs": [],
   "source": [
    "plt.imshow(draw_it(df.drawing.values[0]), cmap=\"gray\")"
   ]
  },
  {
   "cell_type": "code",
   "execution_count": null,
   "metadata": {},
   "outputs": [],
   "source": [
    "n = 10\n",
    "fig, axs = plt.subplots(nrows=n, ncols=n, sharex=True, sharey=True, figsize=(16, 10))\n",
    "for i, drawing in enumerate(df.drawing[:n * n]):\n",
    "    ax = axs[i // n, i % n]\n",
    "    i = draw_it(drawing)\n",
    "    ax.imshow(i, cmap=\"gray\")\n",
    "    ax.axis('off')\n",
    "plt.show();"
   ]
  },
  {
   "cell_type": "code",
   "execution_count": null,
   "metadata": {
    "scrolled": false
   },
   "outputs": [],
   "source": [
    "n = 10\n",
    "fig, axs = plt.subplots(nrows=n, ncols=n, sharex=True, sharey=True, figsize=(16, 10))\n",
    "for i, drawing in enumerate(df.drawing[:n * n]):\n",
    "    ax = axs[i // n, i % n]\n",
    "    for x, y in drawing:\n",
    "        ax.plot(x, -np.array(y), lw=3)\n",
    "    ax.axis('off')\n",
    "plt.show();"
   ]
  },
  {
   "cell_type": "code",
   "execution_count": null,
   "metadata": {},
   "outputs": [],
   "source": []
  }
 ],
 "metadata": {
  "kernelspec": {
   "display_name": "Python 3",
   "language": "python",
   "name": "python3"
  },
  "language_info": {
   "codemirror_mode": {
    "name": "ipython",
    "version": 3
   },
   "file_extension": ".py",
   "mimetype": "text/x-python",
   "name": "python",
   "nbconvert_exporter": "python",
   "pygments_lexer": "ipython3",
   "version": "3.6.6"
  }
 },
 "nbformat": 4,
 "nbformat_minor": 2
}
