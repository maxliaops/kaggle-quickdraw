{
 "cells": [
  {
   "cell_type": "code",
   "execution_count": 1,
   "metadata": {},
   "outputs": [],
   "source": [
    "!pip install -q -r requirements.txt"
   ]
  },
  {
   "cell_type": "code",
   "execution_count": 2,
   "metadata": {},
   "outputs": [],
   "source": [
    "!apt-get update >/dev/null\n",
    "!apt-get -y install python3-dev libsm-dev libxrender1 libxext6 zip git >/dev/null\n",
    "!rm -rf /var/lib/apt/lists/*"
   ]
  },
  {
   "cell_type": "code",
   "execution_count": null,
   "metadata": {},
   "outputs": [],
   "source": [
    "!git pull"
   ]
  },
  {
   "cell_type": "code",
   "execution_count": null,
   "metadata": {},
   "outputs": [],
   "source": [
    "!git config --global user.email \"ovidio.mallo@gmail.com\"\n",
    "!git config --global user.email \"ovidio.mallo@gmail.com\""
   ]
  },
  {
   "cell_type": "code",
   "execution_count": 78,
   "metadata": {},
   "outputs": [
    {
     "name": "stdout",
     "output_type": "stream",
     "text": [
      "\r\n",
      "*** Please tell me who you are.\r\n",
      "\r\n",
      "Run\r\n",
      "\r\n",
      "  git config --global user.email \"you@example.com\"\r\n",
      "  git config --global user.name \"Your Name\"\r\n",
      "\r\n",
      "to set your account's default identity.\r\n",
      "Omit --global to set the identity only in this repository.\r\n",
      "\r\n",
      "fatal: unable to auto-detect email address (got 'root@c14ca925d780.(none)')\r\n"
     ]
    }
   ],
   "source": [
    "!git add analysis.ipynb && git commit -m \"updated analysis notebook\" && git push"
   ]
  },
  {
   "cell_type": "code",
   "execution_count": 37,
   "metadata": {},
   "outputs": [],
   "source": [
    "import glob\n",
    "import os\n",
    "import math\n",
    "import numpy as np\n",
    "import pandas as pd\n",
    "import matplotlib.pyplot as plt\n",
    "from PIL import Image, ImageDraw\n",
    "import cv2\n",
    "import torch\n",
    "import torch.nn.functional as F\n",
    "from torch.utils.data import DataLoader\n",
    "\n",
    "from train import create_model, create_criterion, evaluate\n",
    "from dataset import TrainData, TrainDataset"
   ]
  },
  {
   "cell_type": "code",
   "execution_count": 32,
   "metadata": {},
   "outputs": [],
   "source": [
    "input_dir = \"/storage/kaggle/quickdraw\"\n",
    "image_size = 32\n",
    "batch_size = 256\n",
    "test_size = 0.1\n",
    "train_on_unrecognized = True\n",
    "num_categories_restriction = 68\n",
    "num_workers = 8\n",
    "pin_memory = True\n",
    "use_dummy_image = False"
   ]
  },
  {
   "cell_type": "code",
   "execution_count": 33,
   "metadata": {},
   "outputs": [],
   "source": [
    "device = torch.device(\"cuda:0\" if torch.cuda.is_available() else \"cpu\")"
   ]
  },
  {
   "cell_type": "code",
   "execution_count": 40,
   "metadata": {},
   "outputs": [],
   "source": [
    "model = create_model(\"cnn\", input_size=image_size, num_classes=num_categories_restriction)\n",
    "model.load_state_dict(torch.load(\"/storage/models/quickdraw/test/model.pth\", map_location=device))"
   ]
  },
  {
   "cell_type": "code",
   "execution_count": 11,
   "metadata": {},
   "outputs": [
    {
     "name": "stdout",
     "output_type": "stream",
     "text": [
      "Reading data file '/storage/kaggle/quickdraw/train_simplified_shards/shard-0.npz'\n",
      "Loaded 994325 samples\n",
      "Time to load data of shard 0: 0:00:29.659513\n"
     ]
    }
   ],
   "source": [
    "train_data = TrainData(\n",
    "    input_dir,\n",
    "    shard=0,\n",
    "    test_size=test_size,\n",
    "    train_on_unrecognized=train_on_unrecognized,\n",
    "    num_categories_restriction=num_categories_restriction)"
   ]
  },
  {
   "cell_type": "code",
   "execution_count": 16,
   "metadata": {},
   "outputs": [],
   "source": [
    "val_set = TrainDataset(train_data.val_set_df, image_size, use_dummy_image)\n",
    "val_set_data_loader = \\\n",
    "    DataLoader(val_set, batch_size=batch_size, shuffle=False, num_workers=num_workers, pin_memory=pin_memory)"
   ]
  },
  {
   "cell_type": "code",
   "execution_count": 20,
   "metadata": {},
   "outputs": [],
   "source": [
    "criterion = create_criterion(\"cce\", len(train_data.categories))"
   ]
  },
  {
   "cell_type": "code",
   "execution_count": 22,
   "metadata": {},
   "outputs": [],
   "source": [
    "loss_avg, mapk_avg, accuracy_top1_avg, accuracy_top3_avg, accuracy_top5_avg, accuracy_top10_avg = \\\n",
    "    evaluate(model, val_set_data_loader, criterion, 3)"
   ]
  },
  {
   "cell_type": "code",
   "execution_count": 24,
   "metadata": {},
   "outputs": [
    {
     "name": "stdout",
     "output_type": "stream",
     "text": [
      "loss: 4.22, map@3: 0.04, acc@1: 0.03, acc@3: 0.06, acc@5: 0.08, acc@10: 0.16\n"
     ]
    }
   ],
   "source": [
    "print(\n",
    "    \"loss: {:.2f}, map@3: {:.2f}, acc@1: {:.2f}, acc@3: {:.2f}, acc@5: {:.2f}, acc@10: {:.2f}\"\n",
    "    .format(loss_avg, mapk_avg, accuracy_top1_avg, accuracy_top3_avg, accuracy_top5_avg, accuracy_top10_avg))"
   ]
  },
  {
   "cell_type": "code",
   "execution_count": 26,
   "metadata": {},
   "outputs": [],
   "source": [
    "val_set_data_loader_iter = iter(val_set_data_loader)"
   ]
  },
  {
   "cell_type": "code",
   "execution_count": 34,
   "metadata": {},
   "outputs": [],
   "source": [
    "batch = next(val_set_data_loader_iter)\n",
    "\n",
    "images, categories = \\\n",
    "    batch[0].to(device, non_blocking=True), \\\n",
    "    batch[1].to(device, non_blocking=True)"
   ]
  },
  {
   "cell_type": "code",
   "execution_count": 41,
   "metadata": {},
   "outputs": [],
   "source": [
    "prediction_logits = model(images)\n",
    "predictions = F.softmax(prediction_logits, dim=1)"
   ]
  },
  {
   "cell_type": "code",
   "execution_count": 50,
   "metadata": {},
   "outputs": [],
   "source": [
    "prediction_scores, prediction_categories = predictions.topk(3, dim=1, sorted=True)"
   ]
  },
  {
   "cell_type": "code",
   "execution_count": 76,
   "metadata": {},
   "outputs": [
    {
     "name": "stdout",
     "output_type": "stream",
     "text": [
      "tensor([0.9995, 0.6642, 0.5088, 0.9105, 1.0000, 0.9384, 0.9272, 0.9937, 0.9865,\n",
      "        0.9923], device='cuda:0', grad_fn=<SelectBackward>)\n"
     ]
    }
   ],
   "source": [
    "print(prediction_scores[:10, 0])"
   ]
  },
  {
   "cell_type": "code",
   "execution_count": null,
   "metadata": {},
   "outputs": [],
   "source": []
  }
 ],
 "metadata": {
  "kernelspec": {
   "display_name": "Python 3",
   "language": "python",
   "name": "python3"
  },
  "language_info": {
   "codemirror_mode": {
    "name": "ipython",
    "version": 3
   },
   "file_extension": ".py",
   "mimetype": "text/x-python",
   "name": "python",
   "nbconvert_exporter": "python",
   "pygments_lexer": "ipython3",
   "version": "3.5.2"
  }
 },
 "nbformat": 4,
 "nbformat_minor": 2
}
