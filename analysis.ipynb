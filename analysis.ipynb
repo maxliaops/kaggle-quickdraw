{
 "cells": [
  {
   "cell_type": "code",
   "execution_count": 1,
   "metadata": {},
   "outputs": [],
   "source": [
    "# !pip install -q -r requirements.txt"
   ]
  },
  {
   "cell_type": "code",
   "execution_count": 2,
   "metadata": {},
   "outputs": [],
   "source": [
    "# !apt-get update >/dev/null\n",
    "# !apt-get -y install python3-dev libsm-dev libxrender1 libxext6 zip git >/dev/null\n",
    "# !rm -rf /var/lib/apt/lists/*"
   ]
  },
  {
   "cell_type": "code",
   "execution_count": 3,
   "metadata": {},
   "outputs": [],
   "source": [
    "# !git pull"
   ]
  },
  {
   "cell_type": "code",
   "execution_count": 4,
   "metadata": {},
   "outputs": [],
   "source": [
    "import glob\n",
    "import os\n",
    "import math\n",
    "import numpy as np\n",
    "import pandas as pd\n",
    "import matplotlib.pyplot as plt\n",
    "from PIL import Image, ImageDraw\n",
    "import cv2\n",
    "import torch\n",
    "import torch.nn.functional as F\n",
    "from torch.utils.data import DataLoader\n",
    "\n",
    "from train import create_model, create_criterion, evaluate\n",
    "from dataset import TrainData, TrainDataset"
   ]
  },
  {
   "cell_type": "code",
   "execution_count": 5,
   "metadata": {},
   "outputs": [],
   "source": [
    "input_dir = \"/storage/kaggle/quickdraw\"\n",
    "model_type = \"cnn\"\n",
    "image_size = 32\n",
    "batch_size = 256\n",
    "test_size = 0.1\n",
    "train_on_unrecognized = True\n",
    "num_categories = 68\n",
    "num_categories_restriction = 68\n",
    "num_workers = 8\n",
    "pin_memory = True\n",
    "use_dummy_image = False"
   ]
  },
  {
   "cell_type": "code",
   "execution_count": 6,
   "metadata": {},
   "outputs": [],
   "source": [
    "device = torch.device(\"cuda:0\" if torch.cuda.is_available() else \"cpu\")"
   ]
  },
  {
   "cell_type": "code",
   "execution_count": 7,
   "metadata": {},
   "outputs": [],
   "source": [
    "model = create_model(model_type, input_size=image_size, num_classes=num_categories)\n",
    "model.load_state_dict(torch.load(\"/storage/models/quickdraw/test/model.pth\", map_location=device))"
   ]
  },
  {
   "cell_type": "code",
   "execution_count": 8,
   "metadata": {},
   "outputs": [
    {
     "name": "stdout",
     "output_type": "stream",
     "text": [
      "Reading data file '/storage/kaggle/quickdraw/train_simplified_shards/shard-0.npz'\n",
      "Loaded 994325 samples\n",
      "Time to load data of shard 0: 0:00:27.143758\n"
     ]
    }
   ],
   "source": [
    "train_data = TrainData(\n",
    "    input_dir,\n",
    "    shard=0,\n",
    "    test_size=test_size,\n",
    "    train_on_unrecognized=train_on_unrecognized,\n",
    "    num_categories_restriction=num_categories_restriction)"
   ]
  },
  {
   "cell_type": "code",
   "execution_count": 9,
   "metadata": {},
   "outputs": [],
   "source": [
    "val_set = TrainDataset(train_data.val_set_df, image_size, use_dummy_image)\n",
    "val_set_data_loader = \\\n",
    "    DataLoader(val_set, batch_size=batch_size, shuffle=False, num_workers=num_workers, pin_memory=pin_memory)"
   ]
  },
  {
   "cell_type": "code",
   "execution_count": 10,
   "metadata": {},
   "outputs": [],
   "source": [
    "criterion = create_criterion(\"cce\", num_categories)"
   ]
  },
  {
   "cell_type": "code",
   "execution_count": 11,
   "metadata": {},
   "outputs": [],
   "source": [
    "loss_avg, mapk_avg, accuracy_top1_avg, accuracy_top3_avg, accuracy_top5_avg, accuracy_top10_avg = \\\n",
    "    evaluate(model, val_set_data_loader, criterion, 3)"
   ]
  },
  {
   "cell_type": "code",
   "execution_count": 12,
   "metadata": {},
   "outputs": [
    {
     "name": "stdout",
     "output_type": "stream",
     "text": [
      "loss: 0.58, map@3: 0.89, acc@1: 0.85, acc@3: 0.94, acc@5: 0.96, acc@10: 0.97\n"
     ]
    }
   ],
   "source": [
    "print(\n",
    "    \"loss: {:.2f}, map@3: {:.2f}, acc@1: {:.2f}, acc@3: {:.2f}, acc@5: {:.2f}, acc@10: {:.2f}\"\n",
    "    .format(loss_avg, mapk_avg, accuracy_top1_avg, accuracy_top3_avg, accuracy_top5_avg, accuracy_top10_avg))"
   ]
  },
  {
   "cell_type": "code",
   "execution_count": 13,
   "metadata": {},
   "outputs": [],
   "source": [
    "val_set_data_loader_iter = iter(val_set_data_loader)"
   ]
  },
  {
   "cell_type": "code",
   "execution_count": 14,
   "metadata": {},
   "outputs": [],
   "source": [
    "batch = next(val_set_data_loader_iter)\n",
    "\n",
    "images, categories = \\\n",
    "    batch[0].to(device, non_blocking=True), \\\n",
    "    batch[1].to(device, non_blocking=True)"
   ]
  },
  {
   "cell_type": "code",
   "execution_count": 15,
   "metadata": {},
   "outputs": [],
   "source": [
    "prediction_logits = model(images)\n",
    "predictions = F.softmax(prediction_logits, dim=1)"
   ]
  },
  {
   "cell_type": "code",
   "execution_count": 16,
   "metadata": {},
   "outputs": [],
   "source": [
    "prediction_scores, prediction_categories = predictions.topk(3, dim=1, sorted=True)"
   ]
  },
  {
   "cell_type": "code",
   "execution_count": 17,
   "metadata": {},
   "outputs": [
    {
     "name": "stdout",
     "output_type": "stream",
     "text": [
      "tensor([0.7108, 1.0000, 0.9960, 0.9998, 0.8685, 0.9865, 1.0000, 0.9916, 0.7663,\n",
      "        0.9828], device='cuda:0', grad_fn=<SelectBackward>)\n"
     ]
    }
   ],
   "source": [
    "print(prediction_scores[:10, 0])"
   ]
  },
  {
   "cell_type": "code",
   "execution_count": 18,
   "metadata": {},
   "outputs": [
    {
     "name": "stdout",
     "output_type": "stream",
     "text": [
      "['blackberry' 'cello' 'ant' 'bowtie' 'blueberry' 'blueberry' 'bowtie'\n",
      " 'binoculars' 'cake' 'cello']\n"
     ]
    }
   ],
   "source": [
    "print(np.array(train_data.categories)[prediction_categories[:10, 0]])"
   ]
  },
  {
   "cell_type": "code",
   "execution_count": 19,
   "metadata": {},
   "outputs": [
    {
     "name": "stdout",
     "output_type": "stream",
     "text": [
      "tensor(0.8316, device='cuda:0', grad_fn=<MeanBackward1>)\n",
      "tensor(0.2340, device='cuda:0', grad_fn=<StdBackward0>)\n",
      "tensor(0.1256, device='cuda:0', grad_fn=<MinBackward1>)\n",
      "tensor(1.0000, device='cuda:0', grad_fn=<MaxBackward1>)\n"
     ]
    }
   ],
   "source": [
    "print(prediction_scores[:, 0].mean())\n",
    "print(prediction_scores[:, 0].std())\n",
    "print(prediction_scores[:, 0].min())\n",
    "print(prediction_scores[:, 0].max())"
   ]
  },
  {
   "cell_type": "code",
   "execution_count": 20,
   "metadata": {},
   "outputs": [
    {
     "name": "stdout",
     "output_type": "stream",
     "text": [
      "tensor(0.9923, device='cuda:0', grad_fn=<MeanBackward1>)\n",
      "tensor(0.0103, device='cuda:0', grad_fn=<StdBackward0>)\n",
      "tensor(0.9746, device='cuda:0', grad_fn=<MinBackward1>)\n",
      "tensor(1.0000, device='cuda:0', grad_fn=<MaxBackward1>)\n"
     ]
    }
   ],
   "source": [
    "print(prediction_scores[categories == 0][:, 0].mean())\n",
    "print(prediction_scores[categories == 0][:, 0].std())\n",
    "print(prediction_scores[categories == 0][:, 0].min())\n",
    "print(prediction_scores[categories == 0][:, 0].max())"
   ]
  },
  {
   "cell_type": "code",
   "execution_count": 21,
   "metadata": {},
   "outputs": [],
   "source": [
    "confusion = np.zeros((num_categories, num_categories))\n",
    "for c, pc in zip(categories, prediction_categories):\n",
    "    confusion[c, pc[0]] += 1"
   ]
  },
  {
   "cell_type": "code",
   "execution_count": 22,
   "metadata": {},
   "outputs": [
    {
     "name": "stdout",
     "output_type": "stream",
     "text": [
      "0.05536332179930796\n",
      "0.45607846579202554\n",
      "0.0\n",
      "8.0\n"
     ]
    }
   ],
   "source": [
    "print(confusion.mean())\n",
    "print(confusion.std())\n",
    "print(confusion.min())\n",
    "print(confusion.max())"
   ]
  },
  {
   "cell_type": "code",
   "execution_count": 23,
   "metadata": {},
   "outputs": [
    {
     "data": {
      "text/plain": [
       "<matplotlib.colorbar.Colorbar at 0x7f8b449a0f98>"
      ]
     },
     "execution_count": 23,
     "metadata": {},
     "output_type": "execute_result"
    },
    {
     "data": {
      "image/png": "[encoded data removed]",
      "text/plain": [
       "<matplotlib.figure.Figure at 0x7f8c10753ba8>"
      ]
     },
     "metadata": {},
     "output_type": "display_data"
    }
   ],
   "source": [
    "plt.figure(num=None, figsize=(8, 6), dpi=80, facecolor=\"w\", edgecolor=\"k\")\n",
    "plt.imshow(confusion, vmin=confusion.min(), vmax=confusion.max())\n",
    "plt.colorbar()"
   ]
  },
  {
   "cell_type": "code",
   "execution_count": null,
   "metadata": {},
   "outputs": [],
   "source": []
  }
 ],
 "metadata": {
  "kernelspec": {
   "display_name": "Python 3",
   "language": "python",
   "name": "python3"
  },
  "language_info": {
   "codemirror_mode": {
    "name": "ipython",
    "version": 3
   },
   "file_extension": ".py",
   "mimetype": "text/x-python",
   "name": "python",
   "nbconvert_exporter": "python",
   "pygments_lexer": "ipython3",
   "version": "3.5.2"
  }
 },
 "nbformat": 4,
 "nbformat_minor": 2
}
